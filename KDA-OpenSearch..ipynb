﻿{
  "metadata": {
    "name": "KDA-OpenSearch",
    "kernelspec": {
      "language": "scala",
      "name": "spark2-scala"
    },
    "language_info": {
      "codemirror_mode": "text/x-scala",
      "file_extension": ".scala",
      "mimetype": "text/x-scala",
      "name": "scala",
      "pygments_lexer": "scala"
    }
  },
  "nbformat": 4,
  "nbformat_minor": 2,
  "cells": [
    {
      "cell_type": "markdown",
      "metadata": {},
      "source": "1. Run the following cell to create a Table called \"telematics\" to hold \nKinesis Stream Data"
    },
    {
      "cell_type": "code",
      "execution_count": 1,
      "metadata": {
        "autoscroll": "auto"
      },
      "outputs": [],
      "source": "%flink.ssql(type\u003dupdate)\ndrop table if exists telematics;\n\nCREATE TABLE telematics (\nvendorId INTEGER,\ntimeOfRecord FLOAT,\ntraceVelocity1 FLOAT,\t\ntraceVelocity2 FLOAT,\nmotorSpeed FLOAT, \nmotorTorque FLOAT, \nbatterySOC FLOAT,\t\nbatteryCurrent FLOAT\n)\n WITH (\n\u0027connector\u0027 \u003d \u0027kinesis\u0027,\n\u0027stream\u0027 \u003d \u0027input-stream\u0027,\n\u0027aws.region\u0027 \u003d \u0027us-east-1\u0027,\n\u0027scan.stream.initpos\u0027 \u003d \u0027LATEST\u0027,\n\u0027format\u0027 \u003d \u0027json\u0027\n);"
    },
    {
      "cell_type": "markdown",
      "metadata": {},
      "source": "2. Run the following cell to show Kinesis Stream Data"
    },
    {
      "cell_type": "code",
      "execution_count": 3,
      "metadata": {
        "autoscroll": "auto"
      },
      "outputs": [],
      "source": "%flink.ssql(type\u003dupdate)\nselect * from telematics;"
    },
    {
      "cell_type": "markdown",
      "metadata": {},
      "source": "3. Run the following cell to create Telematics Table to \nhold aggregated data in Amazon OpenSearch. Check OSEndpoint,OSUsername and OSPassword value and update hosts,username and password respectively. \nThe hosts should be in below format\n\n`\u003cOSEndpoint\u003e:443`"
    },
    {
      "cell_type": "code",
      "execution_count": 5,
      "metadata": {
        "autoscroll": "auto"
      },
      "outputs": [],
      "source": "%flink.ssql(type\u003dupdate)\ndrop TABLE if exists telematics_stats;\n\nCREATE TABLE telematics_stats (\n        mech_power FLOAT,\n        elec_power DOUBLE,\n        energy_efficiency FLOAT\n    ) WITH (\n  \u0027connector\u0027 \u003d \u0027elasticsearch-7\u0027,\n  \u0027hosts\u0027 \u003d \u0027https://search-os-domain-gwj2ejpx3c4xngjr6vea52fvra.us-east-1.es.amazonaws.com:443\u0027,\n  \u0027index\u0027 \u003d \u0027telematics_stats\u0027,\n  \u0027username\u0027 \u003d \u0027admin\u0027,\n  \u0027password\u0027 \u003d \u0027AD0Kzb;G\u003cZd4GSe,\u0027\n);\n    "
    },
    {
      "cell_type": "markdown",
      "metadata": {},
      "source": "4. Run the following cell to aggregate telematics data \nfrom telematics table and save aggregated data in OpenSearch\n"
    },
    {
      "cell_type": "code",
      "execution_count": 7,
      "metadata": {
        "autoscroll": "auto"
      },
      "outputs": [],
      "source": "%flink.ssql(type\u003dupdate)\nINSERT INTO telematics_stats\nSELECT\n    AVG(motorSpeed * motorTorque),\n    AVG(batteryCurrent * batterySOC * 0.01), \n    AVG(motorSpeed * motorTorque / (batteryCurrent * batterySOC * 0.01))\nFROM telematics WHERE batteryCurrent \u003e 0;\n\n"
    },
    {
      "cell_type": "code",
      "execution_count": 8,
      "metadata": {
        "autoscroll": "auto"
      },
      "outputs": [],
      "source": "%flink.ssql\n"
    }
  ]
}